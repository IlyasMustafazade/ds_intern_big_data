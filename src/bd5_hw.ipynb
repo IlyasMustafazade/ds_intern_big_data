{
 "cells": [
  {
   "cell_type": "code",
   "execution_count": 1,
   "metadata": {},
   "outputs": [],
   "source": [
    "from pymongo import MongoClient\n",
    "from pymongo.database import Database\n",
    "from pymongo.collection import Collection\n",
    "from pymongo.errors import OperationFailure\n"
   ]
  },
  {
   "cell_type": "markdown",
   "metadata": {},
   "source": [
    "# Question 1"
   ]
  },
  {
   "cell_type": "code",
   "execution_count": 2,
   "metadata": {},
   "outputs": [],
   "source": [
    "client = MongoClient('mongodb://localhost:27017/')"
   ]
  },
  {
   "cell_type": "code",
   "execution_count": 3,
   "metadata": {},
   "outputs": [
    {
     "data": {
      "text/plain": [
       "Database(MongoClient(host=['localhost:27017'], document_class=dict, tz_aware=False, connect=True), 'db')"
      ]
     },
     "execution_count": 3,
     "metadata": {},
     "output_type": "execute_result"
    }
   ],
   "source": [
    "db = Database(client=client, name=\"db\")\n",
    "db"
   ]
  },
  {
   "cell_type": "markdown",
   "metadata": {},
   "source": [
    "# Question 2"
   ]
  },
  {
   "cell_type": "code",
   "execution_count": 4,
   "metadata": {},
   "outputs": [],
   "source": [
    "try:\n",
    "    student_collection = Collection(db, \"student_collection\", create=True)\n",
    "except OperationFailure:\n",
    "    pass"
   ]
  },
  {
   "cell_type": "code",
   "execution_count": 5,
   "metadata": {},
   "outputs": [
    {
     "data": {
      "text/plain": [
       "Collection(Database(MongoClient(host=['localhost:27017'], document_class=dict, tz_aware=False, connect=True), 'db'), 'student_collection')"
      ]
     },
     "execution_count": 5,
     "metadata": {},
     "output_type": "execute_result"
    }
   ],
   "source": [
    "db.student_collection"
   ]
  },
  {
   "cell_type": "markdown",
   "metadata": {},
   "source": [
    "# Question 3"
   ]
  },
  {
   "cell_type": "code",
   "execution_count": 6,
   "metadata": {},
   "outputs": [
    {
     "name": "stdout",
     "output_type": "stream",
     "text": [
      "[{'name': 'Ilyas Mustafazade', 'student_id': '2106A903', 'age': 18, 'email': 'mustafazadeilyas04@gmail.com', 'study_year': 2}, {'name': 'XXX YYYYYY', 'student_id': '1564256', 'age': 787, 'email': 'AAAAA@asnaac.com', 'study_year': 3}, {'name': 'YYYY XXXXXX', 'student_id': '4516456', 'age': 211, 'email': 'AAAAA@gaghs.com', 'study_year': 3}, {'name': 'ZZZZ XXXXXX', 'student_id': '78784849', 'age': 1300, 'email': 'BBBB@gaghs.com', 'study_year': 2}]\n"
     ]
    }
   ],
   "source": [
    "document1 = {\n",
    "    \"name\": \"Ilyas Mustafazade\",\n",
    "    \"student_id\": \"2106A903\",\n",
    "    \"age\": 18,\n",
    "    \"email\": \"mustafazadeilyas04@gmail.com\",\n",
    "    \"study_year\": 2\n",
    "}\n",
    "\n",
    "document2 = {\n",
    "    \"name\": \"XXX YYYYYY\",\n",
    "    \"student_id\": \"1564256\",\n",
    "    \"age\": 787,\n",
    "    \"email\": \"AAAAA@asnaac.com\",\n",
    "    \"study_year\": 3\n",
    "}\n",
    "\n",
    "document3 = {\n",
    "    \"name\": \"YYYY XXXXXX\",\n",
    "    \"student_id\": \"4516456\",\n",
    "    \"age\": 211,\n",
    "    \"email\": \"AAAAA@gaghs.com\",\n",
    "    \"study_year\": 3\n",
    "}\n",
    "\n",
    "document4 = {\n",
    "    \"name\": \"ZZZZ XXXXXX\",\n",
    "    \"student_id\": \"78784849\",\n",
    "    \"age\": 1300,\n",
    "    \"email\": \"BBBB@gaghs.com\",\n",
    "    \"study_year\": 2\n",
    "}\n",
    "document_lst = [document1, document2, document3, document4]\n",
    "print(document_lst)"
   ]
  },
  {
   "cell_type": "code",
   "execution_count": 7,
   "metadata": {},
   "outputs": [
    {
     "data": {
      "text/plain": [
       "Collection(Database(MongoClient(host=['localhost:27017'], document_class=dict, tz_aware=False, connect=True), 'db'), 'student_collection')"
      ]
     },
     "execution_count": 7,
     "metadata": {},
     "output_type": "execute_result"
    }
   ],
   "source": [
    "db.student_collection.delete_many({})\n",
    "for document in document_lst:\n",
    "    db.student_collection.update_one(\n",
    "\tdocument, {\"$setOnInsert\": document}, upsert=True\n",
    ")\n",
    "db.student_collection"
   ]
  },
  {
   "cell_type": "markdown",
   "metadata": {},
   "source": [
    "# Question 4"
   ]
  },
  {
   "cell_type": "code",
   "execution_count": 8,
   "metadata": {},
   "outputs": [
    {
     "name": "stdout",
     "output_type": "stream",
     "text": [
      "{'_id': ObjectId('62fcc53a4e1598c3a25075d6'), 'age': 18, 'email': 'mustafazadeilyas04@gmail.com', 'name': 'Ilyas Mustafazade', 'student_id': '2106A903', 'study_year': 2}\n",
      "{'_id': ObjectId('62fcc53a4e1598c3a25075d8'), 'age': 787, 'email': 'AAAAA@asnaac.com', 'name': 'XXX YYYYYY', 'student_id': '1564256', 'study_year': 3}\n",
      "{'_id': ObjectId('62fcc53a4e1598c3a25075da'), 'age': 211, 'email': 'AAAAA@gaghs.com', 'name': 'YYYY XXXXXX', 'student_id': '4516456', 'study_year': 3}\n",
      "{'_id': ObjectId('62fcc53a4e1598c3a25075dc'), 'age': 1300, 'email': 'BBBB@gaghs.com', 'name': 'ZZZZ XXXXXX', 'student_id': '78784849', 'study_year': 2}\n"
     ]
    }
   ],
   "source": [
    "for student in db.student_collection.find():\n",
    "    print(student)"
   ]
  },
  {
   "cell_type": "markdown",
   "metadata": {},
   "source": [
    "# Question 5"
   ]
  },
  {
   "cell_type": "code",
   "execution_count": 9,
   "metadata": {},
   "outputs": [
    {
     "data": {
      "text/plain": [
       "[{'_id': ObjectId('62fcc53a4e1598c3a25075d8'),\n",
       "  'age': 787,\n",
       "  'email': 'AAAAA@asnaac.com',\n",
       "  'name': 'XXX YYYYYY',\n",
       "  'student_id': '1564256',\n",
       "  'study_year': 3},\n",
       " {'_id': ObjectId('62fcc53a4e1598c3a25075da'),\n",
       "  'age': 211,\n",
       "  'email': 'AAAAA@gaghs.com',\n",
       "  'name': 'YYYY XXXXXX',\n",
       "  'student_id': '4516456',\n",
       "  'study_year': 3}]"
      ]
     },
     "execution_count": 9,
     "metadata": {},
     "output_type": "execute_result"
    }
   ],
   "source": [
    "third_year_student_lst = []\n",
    "for student in db.student_collection.find():\n",
    "    if student[\"study_year\"] == 3:\n",
    "        third_year_student_lst.append(student)\n",
    "third_year_student_lst"
   ]
  },
  {
   "cell_type": "markdown",
   "metadata": {},
   "source": [
    "# Question 6"
   ]
  },
  {
   "cell_type": "code",
   "execution_count": 10,
   "metadata": {},
   "outputs": [
    {
     "data": {
      "text/plain": [
       "2"
      ]
     },
     "execution_count": 10,
     "metadata": {},
     "output_type": "execute_result"
    }
   ],
   "source": [
    "second_year_count = 0\n",
    "for student in db.student_collection.find():\n",
    "    if student[\"study_year\"] == 2:\n",
    "        second_year_count += 1\n",
    "second_year_count"
   ]
  }
 ],
 "metadata": {
  "kernelspec": {
   "display_name": "Python 3.8.10 64-bit",
   "language": "python",
   "name": "python3"
  },
  "language_info": {
   "codemirror_mode": {
    "name": "ipython",
    "version": 3
   },
   "file_extension": ".py",
   "mimetype": "text/x-python",
   "name": "python",
   "nbconvert_exporter": "python",
   "pygments_lexer": "ipython3",
   "version": "3.8.10"
  },
  "orig_nbformat": 4,
  "vscode": {
   "interpreter": {
    "hash": "232cfc01feca0b93e2a2d5a7eec902528fe3f50235c293226ebc73ff1c90a6a9"
   }
  }
 },
 "nbformat": 4,
 "nbformat_minor": 2
}
