{
 "cells": [
  {
   "cell_type": "code",
   "execution_count": 1,
   "metadata": {},
   "outputs": [],
   "source": [
    "import pymongo\n",
    "from pymongo import MongoClient\n",
    "from pymongo.database import Database\n",
    "from pymongo.collection import Collection\n",
    "from pymongo.errors import OperationFailure\n",
    "import numpy as np"
   ]
  },
  {
   "cell_type": "markdown",
   "metadata": {},
   "source": [
    "# PyMongo: Question 1"
   ]
  },
  {
   "cell_type": "code",
   "execution_count": 2,
   "metadata": {},
   "outputs": [],
   "source": [
    "client = MongoClient('mongodb://localhost:27017/')"
   ]
  },
  {
   "cell_type": "code",
   "execution_count": 3,
   "metadata": {},
   "outputs": [
    {
     "data": {
      "text/plain": [
       "Database(MongoClient(host=['localhost:27017'], document_class=dict, tz_aware=False, connect=True), 'db')"
      ]
     },
     "execution_count": 3,
     "metadata": {},
     "output_type": "execute_result"
    }
   ],
   "source": [
    "db = Database(client=client, name=\"db\")\n",
    "db"
   ]
  },
  {
   "cell_type": "markdown",
   "metadata": {},
   "source": [
    "# Question 2"
   ]
  },
  {
   "cell_type": "code",
   "execution_count": 4,
   "metadata": {},
   "outputs": [],
   "source": [
    "try:\n",
    "    employees_collection = Collection(db, \"employees_collection\", create=True)\n",
    "except OperationFailure:\n",
    "    pass"
   ]
  },
  {
   "cell_type": "code",
   "execution_count": 5,
   "metadata": {},
   "outputs": [
    {
     "data": {
      "text/plain": [
       "Collection(Database(MongoClient(host=['localhost:27017'], document_class=dict, tz_aware=False, connect=True), 'db'), 'employees_collection')"
      ]
     },
     "execution_count": 5,
     "metadata": {},
     "output_type": "execute_result"
    }
   ],
   "source": [
    "db.employees_collection"
   ]
  },
  {
   "cell_type": "markdown",
   "metadata": {},
   "source": [
    "# Question 3"
   ]
  },
  {
   "cell_type": "code",
   "execution_count": 6,
   "metadata": {},
   "outputs": [
    {
     "name": "stdout",
     "output_type": "stream",
     "text": [
      "[{'employee_id': '2106A903', 'name': 'Ilyas Mustafazade', 'salary': inf, 'email': 'mustafazadeilyas04@gmail.com', 'job_id': 654651}, {'employee_id': '441416', 'name': 'SDDFGHs QWERTY', 'salary': 50, 'email': 'adnaallsvnainvap@gmail.com', 'job_id': 84184492}, {'employee_id': '714892', 'name': 'QWERTY UIOP', 'salary': 0.2, 'email': 'adapmapovmpds@gmail.com', 'job_id': 2686}, {'employee_id': '24949284', 'name': 'ZXCVB NM', 'salary': 300, 'email': 'vnkalvjfnav@gmail.com', 'job_id': 65161}]\n"
     ]
    }
   ],
   "source": [
    "document1 = {\n",
    "    \"employee_id\": \"2106A903\",\n",
    "    \"name\": \"Ilyas Mustafazade\",\n",
    "    \"salary\": np.inf,\n",
    "    \"email\": \"mustafazadeilyas04@gmail.com\",\n",
    "    \"job_id\": 654651\n",
    "}\n",
    "\n",
    "document2 = {\n",
    "    \"employee_id\": \"441416\",\n",
    "    \"name\": \"SDDFGHs QWERTY\",\n",
    "    \"salary\": 50,\n",
    "    \"email\": \"adnaallsvnainvap@gmail.com\",\n",
    "    \"job_id\": 84184492\n",
    "}\n",
    "\n",
    "document3 = {\n",
    "    \"employee_id\": \"714892\",\n",
    "    \"name\": \"QWERTY UIOP\",\n",
    "    \"salary\": 0.2,\n",
    "    \"email\": \"adapmapovmpds@gmail.com\",\n",
    "    \"job_id\": 2686\n",
    "}\n",
    "\n",
    "document4 = {\n",
    "    \"employee_id\": \"24949284\",\n",
    "    \"name\": \"ZXCVB NM\",\n",
    "    \"salary\": 300,\n",
    "    \"email\": \"vnkalvjfnav@gmail.com\",\n",
    "    \"job_id\": 65161\n",
    "}\n",
    "document_lst = [document1, document2, document3, document4]\n",
    "print(document_lst)"
   ]
  },
  {
   "cell_type": "code",
   "execution_count": 7,
   "metadata": {},
   "outputs": [
    {
     "data": {
      "text/plain": [
       "Collection(Database(MongoClient(host=['localhost:27017'], document_class=dict, tz_aware=False, connect=True), 'db'), 'employee_collection')"
      ]
     },
     "execution_count": 7,
     "metadata": {},
     "output_type": "execute_result"
    }
   ],
   "source": [
    "db.employee_collection.delete_many({})\n",
    "for document in document_lst:\n",
    "    db.employee_collection.update_one(\n",
    "\tdocument, {\"$setOnInsert\": document}, upsert=True\n",
    ")\n",
    "db.employee_collection"
   ]
  },
  {
   "cell_type": "markdown",
   "metadata": {},
   "source": [
    "# Question 4"
   ]
  },
  {
   "cell_type": "code",
   "execution_count": 8,
   "metadata": {},
   "outputs": [
    {
     "name": "stdout",
     "output_type": "stream",
     "text": [
      "{'_id': ObjectId('62fcc53a4e1598c3a25075d6'), 'age': 18, 'email': 'mustafazadeilyas04@gmail.com', 'name': 'Ilyas Mustafazade', 'student_id': '2106A903', 'study_year': 2}\n",
      "{'_id': ObjectId('62fcc53a4e1598c3a25075d8'), 'age': 787, 'email': 'AAAAA@asnaac.com', 'name': 'XXX YYYYYY', 'student_id': '1564256', 'study_year': 3}\n",
      "{'_id': ObjectId('62fcc53a4e1598c3a25075da'), 'age': 211, 'email': 'AAAAA@gaghs.com', 'name': 'YYYY XXXXXX', 'student_id': '4516456', 'study_year': 3}\n",
      "{'_id': ObjectId('62fcc53a4e1598c3a25075dc'), 'age': 1300, 'email': 'BBBB@gaghs.com', 'name': 'ZZZZ XXXXXX', 'student_id': '78784849', 'study_year': 2}\n"
     ]
    }
   ],
   "source": [
    "for student in db.student_collection.find():\n",
    "    print(student)"
   ]
  },
  {
   "cell_type": "markdown",
   "metadata": {},
   "source": [
    "# Question 5"
   ]
  },
  {
   "cell_type": "code",
   "execution_count": 9,
   "metadata": {},
   "outputs": [
    {
     "ename": "KeyError",
     "evalue": "'salary'",
     "output_type": "error",
     "traceback": [
      "\u001b[1;31m---------------------------------------------------------------------------\u001b[0m",
      "\u001b[1;31mKeyError\u001b[0m                                  Traceback (most recent call last)",
      "\u001b[1;32mc:\\Users\\ilyas\\source\\repos\\ds_intern_big_data\\src\\bd5_cs.ipynb Cell 14\u001b[0m in \u001b[0;36m<cell line: 2>\u001b[1;34m()\u001b[0m\n\u001b[0;32m      <a href='vscode-notebook-cell:/c%3A/Users/ilyas/source/repos/ds_intern_big_data/src/bd5_cs.ipynb#X20sZmlsZQ%3D%3D?line=0'>1</a>\u001b[0m min_salary \u001b[39m=\u001b[39m np\u001b[39m.\u001b[39minf\n\u001b[0;32m      <a href='vscode-notebook-cell:/c%3A/Users/ilyas/source/repos/ds_intern_big_data/src/bd5_cs.ipynb#X20sZmlsZQ%3D%3D?line=1'>2</a>\u001b[0m \u001b[39mfor\u001b[39;00m employee \u001b[39min\u001b[39;00m db\u001b[39m.\u001b[39mstudent_collection\u001b[39m.\u001b[39mfind():\n\u001b[1;32m----> <a href='vscode-notebook-cell:/c%3A/Users/ilyas/source/repos/ds_intern_big_data/src/bd5_cs.ipynb#X20sZmlsZQ%3D%3D?line=2'>3</a>\u001b[0m     \u001b[39mif\u001b[39;00m employee[\u001b[39m\"\u001b[39;49m\u001b[39msalary\u001b[39;49m\u001b[39m\"\u001b[39;49m] \u001b[39m<\u001b[39m\u001b[39m=\u001b[39m min_salary:\n\u001b[0;32m      <a href='vscode-notebook-cell:/c%3A/Users/ilyas/source/repos/ds_intern_big_data/src/bd5_cs.ipynb#X20sZmlsZQ%3D%3D?line=3'>4</a>\u001b[0m         min_salary \u001b[39m=\u001b[39m employee[\u001b[39m\"\u001b[39m\u001b[39msalary\u001b[39m\u001b[39m\"\u001b[39m]\n\u001b[0;32m      <a href='vscode-notebook-cell:/c%3A/Users/ilyas/source/repos/ds_intern_big_data/src/bd5_cs.ipynb#X20sZmlsZQ%3D%3D?line=4'>5</a>\u001b[0m         min_salary_employee \u001b[39m=\u001b[39m employee\n",
      "\u001b[1;31mKeyError\u001b[0m: 'salary'"
     ]
    }
   ],
   "source": [
    "min_salary = np.inf\n",
    "for employee in db.student_collection.find():\n",
    "    if employee[\"salary\"] <= min_salary:\n",
    "        min_salary = employee[\"salary\"]\n",
    "        min_salary_employee = employee\n",
    "\n",
    "print(min_salary_employee)\n",
    "print(\"Min salary: \", min_salary_employee[\"salary\"])"
   ]
  },
  {
   "cell_type": "markdown",
   "metadata": {},
   "source": [
    "# Question 6"
   ]
  },
  {
   "cell_type": "code",
   "execution_count": null,
   "metadata": {},
   "outputs": [],
   "source": [
    "for employee in db.employee_collection.find().sort(\"salary\", pymongo.DESCENDING):\n",
    "    print(employee)"
   ]
  },
  {
   "cell_type": "markdown",
   "metadata": {},
   "source": [
    "# AWS"
   ]
  },
  {
   "cell_type": "code",
   "execution_count": null,
   "metadata": {},
   "outputs": [],
   "source": [
    "# Can not create AWS account (is not free)"
   ]
  }
 ],
 "metadata": {
  "kernelspec": {
   "display_name": "Python 3.8.10 64-bit",
   "language": "python",
   "name": "python3"
  },
  "language_info": {
   "codemirror_mode": {
    "name": "ipython",
    "version": 3
   },
   "file_extension": ".py",
   "mimetype": "text/x-python",
   "name": "python",
   "nbconvert_exporter": "python",
   "pygments_lexer": "ipython3",
   "version": "3.8.10"
  },
  "orig_nbformat": 4,
  "vscode": {
   "interpreter": {
    "hash": "232cfc01feca0b93e2a2d5a7eec902528fe3f50235c293226ebc73ff1c90a6a9"
   }
  }
 },
 "nbformat": 4,
 "nbformat_minor": 2
}
