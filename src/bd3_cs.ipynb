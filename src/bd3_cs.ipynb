{
 "cells": [
  {
   "cell_type": "code",
   "execution_count": 1,
   "id": "ed5f75c7",
   "metadata": {},
   "outputs": [],
   "source": [
    "# start-dfs starts hadoop nodes\n",
    "# for it to work properly, Hadoop must be setup correctly\n",
    "\n",
    "!start-dfs"
   ]
  },
  {
   "cell_type": "markdown",
   "id": "ba04e12a",
   "metadata": {},
   "source": [
    "# Question 1"
   ]
  },
  {
   "cell_type": "code",
   "execution_count": 2,
   "id": "f9553d1c",
   "metadata": {},
   "outputs": [
    {
     "name": "stderr",
     "output_type": "stream",
     "text": [
      "mkdir: `/myfiles': File exists\n"
     ]
    }
   ],
   "source": [
    "# -mkdir -> creates folder if does not exist\n",
    "\n",
    "!hdfs dfs -mkdir /myfiles"
   ]
  },
  {
   "cell_type": "code",
   "execution_count": 3,
   "id": "c8ed58ea",
   "metadata": {},
   "outputs": [
    {
     "name": "stdout",
     "output_type": "stream",
     "text": [
      "Found 1 items\n",
      "drwxr-xr-x   - ilyas supergroup          0 2022-08-23 15:40 /myfiles\n"
     ]
    }
   ],
   "source": [
    "# -ls -> lists contents of directory, / means root directory\n",
    "# use it to see that folder is created correctly\n",
    "\n",
    "!hdfs dfs -ls /"
   ]
  },
  {
   "cell_type": "markdown",
   "id": "c154cdfa",
   "metadata": {},
   "source": [
    "# Question 2.A"
   ]
  },
  {
   "cell_type": "code",
   "execution_count": 4,
   "id": "fdcd0def",
   "metadata": {},
   "outputs": [],
   "source": [
    "# -touch -> create file in hdfs, type full path of file that you want to create\n",
    "\n",
    "!hdfs dfs -touch /myfiles/any_file.py"
   ]
  },
  {
   "cell_type": "code",
   "execution_count": 5,
   "id": "411ace7c",
   "metadata": {},
   "outputs": [
    {
     "name": "stdout",
     "output_type": "stream",
     "text": [
      "Found 2 items\n",
      "-rw-r--r--   1 ilyas supergroup          0 2022-08-23 15:45 /myfiles/any_file.py\n",
      "-rw-r--r--   1 ilyas supergroup          0 2022-08-23 15:40 /myfiles/any_file.r\n"
     ]
    }
   ],
   "source": [
    "!hdfs dfs -ls /myfiles"
   ]
  },
  {
   "cell_type": "markdown",
   "id": "2674fd57",
   "metadata": {},
   "source": [
    "# Question 2.B"
   ]
  },
  {
   "cell_type": "code",
   "execution_count": 6,
   "id": "c60f60bf",
   "metadata": {},
   "outputs": [
    {
     "name": "stdout",
     "output_type": "stream",
     "text": [
      "Deleted /myfiles/any_file.py\n"
     ]
    }
   ],
   "source": [
    "# -rm -> removes file\n",
    "\n",
    "!hdfs dfs -rm /myfiles/any_file.py"
   ]
  },
  {
   "cell_type": "code",
   "execution_count": 7,
   "id": "9b1b6103",
   "metadata": {},
   "outputs": [
    {
     "name": "stdout",
     "output_type": "stream",
     "text": [
      "Found 1 items\n",
      "-rw-r--r--   1 ilyas supergroup          0 2022-08-23 15:40 /myfiles/any_file.r\n"
     ]
    }
   ],
   "source": [
    "!hdfs dfs -ls /myfiles"
   ]
  },
  {
   "cell_type": "markdown",
   "id": "874a104e",
   "metadata": {},
   "source": [
    "# Question 3"
   ]
  },
  {
   "cell_type": "code",
   "execution_count": 8,
   "id": "ccc4b3da",
   "metadata": {},
   "outputs": [],
   "source": [
    "# write your job class definition in a string\n",
    "# so that it can be moved to a seperate file\n",
    "# Reason is that jobs can only be run from another files\n",
    "\n",
    "job_as_str = \"\"\"\n",
    "\n",
    "from mrjob.job import MRJob\n",
    "\n",
    "class MRExtreme(MRJob):\n",
    "    def mapper(self, keys_, line):\n",
    "        comma_sep = line.split(\",\")\n",
    "        gender = comma_sep[1]\n",
    "        gender = gender[0]\n",
    "        space_sep = line.split()\n",
    "        n_project = space_sep[1]\n",
    "        yield gender, int(n_project)\n",
    "\n",
    "class MRMax(MRExtreme):\n",
    "    def reducer(self, keys_, values):\n",
    "        yield keys_, (\"Max: \", max(values))\n",
    "\n",
    "class MRMin(MRExtreme):\n",
    "    def reducer(self, keys_, values):\n",
    "        yield keys_, (\"Min: \", min(values))\n",
    "\n",
    "if __name__ == \"__main__\":\n",
    "    MRMax().run()\n",
    "    MRMin().run()\n",
    "        \n",
    "\"\"\""
   ]
  },
  {
   "cell_type": "code",
   "execution_count": 9,
   "id": "384b9294",
   "metadata": {},
   "outputs": [],
   "source": [
    "# put job string to python file so that it can be run\n",
    "\n",
    "with open(\"MRExtreme.py\", \"w\") as f:\n",
    "    print(job_as_str, file=f)"
   ]
  },
  {
   "cell_type": "code",
   "execution_count": 36,
   "id": "d73ae3fe",
   "metadata": {},
   "outputs": [
    {
     "name": "stdout",
     "output_type": "stream",
     "text": [
      "\"f\"\t[\"Max: \", 8]\n",
      "\"m\"\t[\"Max: \", 9]\n",
      "\"f\"\t[\"Min: \", 2]\n",
      "\"m\"\t[\"Min: \", 0]\n"
     ]
    },
    {
     "name": "stderr",
     "output_type": "stream",
     "text": [
      "No configs found; falling back on auto-configuration\n",
      "No configs specified for inline runner\n",
      "Creating temp directory C:\\Users\\ilyas\\AppData\\Local\\Temp\\MRExtreme.ilyas.20220823.113355.216414\n",
      "Running step 1 of 1...\n",
      "job output is in C:\\Users\\ilyas\\AppData\\Local\\Temp\\MRExtreme.ilyas.20220823.113355.216414\\output\n",
      "Streaming final output from C:\\Users\\ilyas\\AppData\\Local\\Temp\\MRExtreme.ilyas.20220823.113355.216414\\output...\n",
      "Removing temp directory C:\\Users\\ilyas\\AppData\\Local\\Temp\\MRExtreme.ilyas.20220823.113355.216414...\n",
      "No configs found; falling back on auto-configuration\n",
      "No configs found; falling back on auto-configuration\n",
      "No configs specified for inline runner\n",
      "No configs specified for inline runner\n",
      "Creating temp directory C:\\Users\\ilyas\\AppData\\Local\\Temp\\MRExtreme.ilyas.20220823.113355.411755\n",
      "Creating temp directory C:\\Users\\ilyas\\AppData\\Local\\Temp\\MRExtreme.ilyas.20220823.113355.411755\n",
      "Running step 1 of 1...\n",
      "Running step 1 of 1...\n",
      "job output is in C:\\Users\\ilyas\\AppData\\Local\\Temp\\MRExtreme.ilyas.20220823.113355.411755\\output\n",
      "job output is in C:\\Users\\ilyas\\AppData\\Local\\Temp\\MRExtreme.ilyas.20220823.113355.411755\\output\n",
      "Streaming final output from C:\\Users\\ilyas\\AppData\\Local\\Temp\\MRExtreme.ilyas.20220823.113355.411755\\output...\n",
      "Streaming final output from C:\\Users\\ilyas\\AppData\\Local\\Temp\\MRExtreme.ilyas.20220823.113355.411755\\output...\n",
      "Removing temp directory C:\\Users\\ilyas\\AppData\\Local\\Temp\\MRExtreme.ilyas.20220823.113355.411755...\n",
      "Removing temp directory C:\\Users\\ilyas\\AppData\\Local\\Temp\\MRExtreme.ilyas.20220823.113355.411755...\n"
     ]
    }
   ],
   "source": [
    "# now, job definition is in seperate .py file,\n",
    "# it can be run by giving projects.txt as input\n",
    "\n",
    "!python MRExtreme.py projects.txt"
   ]
  },
  {
   "cell_type": "markdown",
   "id": "87df8624",
   "metadata": {},
   "source": [
    "# Question 4"
   ]
  },
  {
   "cell_type": "code",
   "execution_count": 10,
   "id": "e7c893a5",
   "metadata": {},
   "outputs": [],
   "source": [
    "job_as_str = \"\"\"\n",
    "\n",
    "import mrjob.job as job\n",
    "\n",
    "class MRAverager(job.MRJob):\n",
    "\n",
    "    def mapper(self, keys, line):\n",
    "        comma_sep = line.split(\",\")\n",
    "        tab_sep = line.split()\n",
    "        city = comma_sep[1][:-3]\n",
    "        n_people = int(tab_sep[1])\n",
    "        yield city, (n_people, 1)\n",
    "\n",
    "    def reducer(self, keys, values):\n",
    "        sum_n_people = 0\n",
    "        sum_count = 0\n",
    "        for n_people, count in values:\n",
    "            sum_n_people += n_people\n",
    "            sum_count += count\n",
    "        yield keys, sum_n_people / sum_count\n",
    "\n",
    "\n",
    "if __name__ == \"__main__\":\n",
    "    MRAverager().run()\n",
    "\n",
    "\"\"\""
   ]
  },
  {
   "cell_type": "code",
   "execution_count": 11,
   "id": "54e237e4",
   "metadata": {},
   "outputs": [],
   "source": [
    "with open(\"MRAverager.py\", \"w\") as f:\n",
    "    print(job_as_str, file=f)"
   ]
  },
  {
   "cell_type": "code",
   "execution_count": 12,
   "id": "7a85090b",
   "metadata": {},
   "outputs": [
    {
     "name": "stdout",
     "output_type": "stream",
     "text": [
      "\"Baku\"\t27.0\n",
      "\"Ganja\"\t26.6\n",
      "\"Sumgayit\"\t31.8\n"
     ]
    },
    {
     "name": "stderr",
     "output_type": "stream",
     "text": [
      "No configs found; falling back on auto-configuration\n",
      "No configs specified for inline runner\n",
      "Creating temp directory C:\\Users\\ilyas\\AppData\\Local\\Temp\\MRAverager.ilyas.20220823.114623.456658\n",
      "Running step 1 of 1...\n",
      "job output is in C:\\Users\\ilyas\\AppData\\Local\\Temp\\MRAverager.ilyas.20220823.114623.456658\\output\n",
      "Streaming final output from C:\\Users\\ilyas\\AppData\\Local\\Temp\\MRAverager.ilyas.20220823.114623.456658\\output...\n",
      "Removing temp directory C:\\Users\\ilyas\\AppData\\Local\\Temp\\MRAverager.ilyas.20220823.114623.456658...\n"
     ]
    }
   ],
   "source": [
    "# give demography.txt as input\n",
    "\n",
    "!python MRAverager.py demography.txt"
   ]
  },
  {
   "cell_type": "markdown",
   "id": "8aca6183",
   "metadata": {},
   "source": [
    "# Question 5"
   ]
  },
  {
   "cell_type": "code",
   "execution_count": 13,
   "id": "0438fe02",
   "metadata": {},
   "outputs": [],
   "source": [
    "# create r file in myfiles with \"-touch\"\n",
    "\n",
    "!hdfs dfs -touch /myfiles/any_file.r"
   ]
  },
  {
   "cell_type": "code",
   "execution_count": 14,
   "id": "0eeb754b",
   "metadata": {},
   "outputs": [
    {
     "name": "stdout",
     "output_type": "stream",
     "text": [
      "Found 1 items\n",
      "-rw-r--r--   1 ilyas supergroup          0 2022-08-23 15:46 /myfiles/any_file.r\n"
     ]
    }
   ],
   "source": [
    "!hdfs dfs -ls /myfiles"
   ]
  },
  {
   "cell_type": "code",
   "execution_count": 15,
   "id": "61e3ac3b",
   "metadata": {},
   "outputs": [
    {
     "name": "stderr",
     "output_type": "stream",
     "text": [
      "copyToLocal: `any_file.r': File exists\n"
     ]
    }
   ],
   "source": [
    "# -copyToLocal copies file in HDFS to local\n",
    "# first argument to it is path of file in HDFS: \"/myfiles/any_file.r\"\n",
    "# second argument is destination in local to copy the file: \".\" means current directory\n",
    "\n",
    "!hdfs dfs -copyToLocal /myfiles/any_file.r ."
   ]
  },
  {
   "cell_type": "code",
   "execution_count": 16,
   "id": "0fc7abbf",
   "metadata": {},
   "outputs": [
    {
     "name": "stdout",
     "output_type": "stream",
     "text": [
      " Volume in drive C has no label.\n",
      " Volume Serial Number is 9C99-77C9\n",
      "\n",
      " Directory of C:\\Users\\ilyas\\Desktop\\test\n",
      "\n",
      "23/08/2022  15:45    <DIR>          .\n",
      "23/08/2022  15:45    <DIR>          ..\n",
      "23/08/2022  15:03    <DIR>          .ipynb_checkpoints\n",
      "23/08/2022  15:42                 0 any_file.r\n",
      "23/08/2022  15:45            11,887 bd10_cs.ipynb\n",
      "23/08/2022  14:18            12,733 bd12_cs.ipynb\n",
      "23/08/2022  15:39               291 demography.txt\n",
      "23/08/2022  15:46               577 MRAverager.py\n",
      "23/08/2022  15:46               600 MRExtreme.py\n",
      "23/08/2022  15:14               194 projects.txt\n",
      "               7 File(s)         26,282 bytes\n",
      "               3 Dir(s)  41,520,660,480 bytes free\n"
     ]
    }
   ],
   "source": [
    "# to see that file is in current directory\n",
    "!dir"
   ]
  }
 ],
 "metadata": {
  "kernelspec": {
   "display_name": "Python 3 (ipykernel)",
   "language": "python",
   "name": "python3"
  },
  "language_info": {
   "codemirror_mode": {
    "name": "ipython",
    "version": 3
   },
   "file_extension": ".py",
   "mimetype": "text/x-python",
   "name": "python",
   "nbconvert_exporter": "python",
   "pygments_lexer": "ipython3",
   "version": "3.8.10"
  }
 },
 "nbformat": 4,
 "nbformat_minor": 5
}
